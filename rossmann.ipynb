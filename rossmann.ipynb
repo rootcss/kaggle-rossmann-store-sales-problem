{
 "cells": [
  {
   "cell_type": "code",
   "execution_count": 1,
   "metadata": {
    "collapsed": false
   },
   "outputs": [
    {
     "name": "stdout",
     "output_type": "stream",
     "text": [
      "Loading datasets(train|test|store)..\n",
      "if store['Open'] is None, set 1..\n",
      "if Store is Closed, Ignore!\n",
      "if Sales < 0, Ignore!\n",
      "Perform a join with store dataset..\n"
     ]
    }
   ],
   "source": [
    "#%matplotlib inline\n",
    "from rossmann import Rossmann\n",
    "\n",
    "core_files = {\n",
    "\t'train' : \"data/train.csv\",\n",
    "\t'test' : \"data/test.csv\",\n",
    "\t'store' : \"data/store.csv\",\n",
    "\t'submission_file' : \"output/submission.csv\"\n",
    "}\n",
    "ross = Rossmann(core_files)\n",
    "ross.loadDataSets()\n",
    "ross.dataFilterAndCleaning()"
   ]
  },
  {
   "cell_type": "code",
   "execution_count": 2,
   "metadata": {
    "collapsed": false
   },
   "outputs": [
    {
     "name": "stdout",
     "output_type": "stream",
     "text": [
      "Developing features..\n",
      "['Store', 'CompetitionDistance', 'CompetitionOpenSinceMonth', 'CompetitionOpenSinceYear', 'Promo', 'Promo2', 'Promo2SinceWeek', 'Promo2SinceYear', 'SchoolHoliday', 'StoreType', 'Assortment', 'StateHoliday', 'DayOfWeek', 'month', 'day', 'year']"
     ]
    },
    {
     "name": "stderr",
     "output_type": "stream",
     "text": [
      "Will train until eval error hasn't decreased in 100 rounds.\n",
      "[0]\ttrain-rmspe:0.999578\teval-rmspe:0.999578\n"
     ]
    },
    {
     "name": "stdout",
     "output_type": "stream",
     "text": [
      "\n",
      "Features have been generated & training data processed.\n",
      "Training an XGB Model..\n"
     ]
    }
   ],
   "source": [
    "# Preparing to train data\n",
    "ross.develop_features()\n",
    "unique_features = []\n",
    "for feature in ross.features:\n",
    "    if feature not in unique_features:\n",
    "        unique_features.append(feature)\n",
    "ross.features = unique_features\n",
    "ross.xgb_num_boost_round = 1\n",
    "model_data = ross.trainXGBModel(ross.train, ross.features)"
   ]
  },
  {
   "cell_type": "code",
   "execution_count": 3,
   "metadata": {
    "collapsed": false
   },
   "outputs": [
    {
     "name": "stdout",
     "output_type": "stream",
     "text": [
      "Validating the XGB Model..\n",
      "RMSPE: 0.999578\n",
      "Predicting using XGB on the dataset..\n"
     ]
    }
   ],
   "source": [
    "# Validating and Printing\n",
    "ross.validateXGBModel(model_data)\n",
    "test_probs = ross.predictUsingXGB(ross.test, ross.features)"
   ]
  },
  {
   "cell_type": "code",
   "execution_count": 6,
   "metadata": {
    "collapsed": false
   },
   "outputs": [
    {
     "name": "stdout",
     "output_type": "stream",
     "text": [
      "XGB Map created at: output/xgb.fmap\n"
     ]
    }
   ],
   "source": [
    "# Submitting\n",
    "ross.submission(test_probs)\n",
    "\n",
    "# Calculating & plotting Feature Importance\n",
    "ross.fmap_path = 'output/xgb.fmap'\n",
    "imp = ross.calculateXGBFeatureImportances(ross.features)"
   ]
  },
  {
   "cell_type": "code",
   "execution_count": 8,
   "metadata": {
    "collapsed": false
   },
   "outputs": [
    {
     "name": "stdout",
     "output_type": "stream",
     "text": [
      "Plotting & Saving the file at: output/plot_feature_importance_using_xgb.png\n",
      "None\n"
     ]
    }
   ],
   "source": [
    "ross.plotting(imp, output='output/plot_feature_importance_using_xgb.png')"
   ]
  },
  {
   "cell_type": "code",
   "execution_count": null,
   "metadata": {
    "collapsed": true
   },
   "outputs": [],
   "source": []
  }
 ],
 "metadata": {
  "kernelspec": {
   "display_name": "Python 2",
   "language": "python",
   "name": "python2"
  },
  "language_info": {
   "codemirror_mode": {
    "name": "ipython",
    "version": 2
   },
   "file_extension": ".py",
   "mimetype": "text/x-python",
   "name": "python",
   "nbconvert_exporter": "python",
   "pygments_lexer": "ipython2",
   "version": "2.7.6"
  }
 },
 "nbformat": 4,
 "nbformat_minor": 0
}
